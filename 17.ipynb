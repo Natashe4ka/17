{
 "cells": [
  {
   "cell_type": "code",
   "execution_count": 101,
   "metadata": {},
   "outputs": [],
   "source": [
    "import numpy as np\n",
    "from PIL import Image\n",
    "import os"
   ]
  },
  {
   "cell_type": "code",
   "execution_count": 95,
   "metadata": {},
   "outputs": [],
   "source": [
    "# /Users/nataliasafonova/Desktop/c++4/py/2.jpeg\n",
    "\n",
    "def main():\n",
    "    fileName1 = input(\"Input path to first file: \")\n",
    "    fileName2 = input(\"Input path to second file: \")\n",
    "    pixel(fileName1, fileName2)\n",
    "\n",
    "def pixel(fileName1, fileName2):\n",
    "    try:\n",
    "        InputImage1 = Image.open(fileName1)\n",
    "        InputImage2 = Image.open(fileName2)\n",
    "    except FileNotFoundError:\n",
    "        print(\"Error! Cannot open file!\")\n",
    "        return -1\n",
    "    \n",
    "    \n",
    "    #print(InputImage1.getpixel((25, 40)))\n",
    "    #print(InputImage1.getpixel((320, 420)))\n",
    "\n",
    "    width1, height1 = InputImage1.size\n",
    "    width2, height2 = InputImage2.size\n",
    "\n",
    "    #print(width1, height1, width2, height2)\n",
    "\n",
    "    if width1 != width2 or height1 != height2:\n",
    "        print(\"Error! Different size of images!\")\n",
    "        return -2 \n",
    "\n",
    "    for i in range(height1):\n",
    "        for j in range(width1):\n",
    "            if InputImage1.getpixel((j, i)) != InputImage2.getpixel((j, i)):\n",
    "                P = InputImage1.getpixel((j, i))\n",
    "                r = P[0]\n",
    "                g = P[1]\n",
    "                b = P[2]\n",
    "                InputImage1.putpixel( (j, i), ((r+50)%255, (g+50)%255, (b+50)%255) )\n",
    "\n",
    "    #InputImage1.show()\n",
    "    InputImage1.save(\"/Users/nataliasafonova/Desktop/c++4/py/after.png\")\n"
   ]
  },
  {
   "cell_type": "code",
   "execution_count": 102,
   "metadata": {},
   "outputs": [],
   "source": [
    "def AutoTest():\n",
    "    ATfile1 = \"/Users/nataliasafonova/Desktop/c++4/py/t1.png\"\n",
    "    ATfile2 = \"/Users/nataliasafonova/Desktop/c++4/py/t2.png\"\n",
    "\n",
    "    pixel(ATfile1, ATfile2)\n",
    "\n",
    "    After = Image.open(\"/Users/nataliasafonova/Desktop/c++4/py/after.png\")\n",
    "    Origin = Image.open(ATfile1)\n",
    "\n",
    "    widht, height = After.size\n",
    "\n",
    "    for i in range(widht):\n",
    "        for j in range(height):\n",
    "            if After.getpixel((i, j)) == Origin.getpixel((i, j)):\n",
    "                os.remove(\"/Users/nataliasafonova/Desktop/c++4/py/after.png\")\n",
    "                return 0\n",
    "\n",
    "    os.remove(\"/Users/nataliasafonova/Desktop/c++4/py/after.png\")\n",
    "    return 1"
   ]
  },
  {
   "cell_type": "code",
   "execution_count": 103,
   "metadata": {},
   "outputs": [
    {
     "name": "stdout",
     "output_type": "stream",
     "text": [
      "1\n"
     ]
    }
   ],
   "source": [
    "if(AutoTest() != 1):\n",
    "    print(\"Error! AutoTest failed!\")\n",
    "else:\n",
    "    main()"
   ]
  }
 ],
 "metadata": {
  "interpreter": {
   "hash": "8476bf459bdf64020576e40d8f241c60543558f80b72c641b4f7f61d5d3a5e34"
  },
  "kernelspec": {
   "display_name": "Python 3.9.7 ('base')",
   "language": "python",
   "name": "python3"
  },
  "language_info": {
   "codemirror_mode": {
    "name": "ipython",
    "version": 3
   },
   "file_extension": ".py",
   "mimetype": "text/x-python",
   "name": "python",
   "nbconvert_exporter": "python",
   "pygments_lexer": "ipython3",
   "version": "3.9.7"
  },
  "orig_nbformat": 4
 },
 "nbformat": 4,
 "nbformat_minor": 2
}
